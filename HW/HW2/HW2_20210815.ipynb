{
 "cells": [
  {
   "cell_type": "markdown",
   "metadata": {
    "collapsed": true
   },
   "source": [
    "# HW2\n",
    "In this assignment, you will learn how to preprocess data using SQLite and Pandas.<br>\n",
    "When submitting, rename the file to HW02_[student_id].ipynb (ex.HW02_20211234.ipynb) and submit it to PLMS."
   ]
  },
  {
   "cell_type": "code",
   "execution_count": 1,
   "metadata": {},
   "outputs": [],
   "source": [
    "import sqlite3\n",
    "import pandas as pd"
   ]
  },
  {
   "cell_type": "markdown",
   "metadata": {},
   "source": [
    "## 1. SQLite and Python"
   ]
  },
  {
   "cell_type": "markdown",
   "metadata": {},
   "source": [
    "### a. Create a SQLite Database\n",
    "Here, you will learn how to connect a SQLite database and insert a data into it.<br>\n",
    "1. Create and connect a database named `temp.db`.<br>\n",
    "2. Create a table named `Airbnb` where the column names are 'ㅇ' respectively.<br>\n",
    "    (You don't need to specify a data type.)<br>\n",
    "3. Insert the data below **at once** and save the changes. <br>\n",
    "\n",
    "    | City      | Price | Hostname | Latitude | Longitude |\n",
    "    | :- | :- | :- | :- | :- |\n",
    "    | New York  | 100   | Jennifer | 40.75    | -73.983   |\n",
    "    | New York  | 175   | Andy     | 40.66536 | -74.264   |\n",
    "    | Hawaii    | 200   | Edward   | 19.453   | -155.3579 |\n",
    "    | San Diego | 68    | Isabel   | 32.473   | -117.1263 |\n",
    "    | San Diego | 96    | Alice    | 32.5852  | -117.2361 |\n",
    "\n",
    "\n",
    "4. Create a table named `Crime` and insert the data below **at once** and save the changes. <br>\n",
    "\n",
    "    | Location      | Year | Num_crime |\n",
    "    | :- | :- | :- |\n",
    "    | New York  | 2021   | 1957 | \n",
    "    | New York  | 2022   | 2395     | \n",
    "    | San Diego    | 2021   | 749   | \n",
    "    | San Diego | 2022    | 627   | \n",
    "\n",
    "5. Create a table named `Job` and insert the data below **one by one** and save the changes. <br>\n",
    "\n",
    "    | Employee      | Company | Gender |\n",
    "    | :- | :- | :- |\n",
    "    | Andy  | Amazon   | M | \n",
    "    | Isabel  | Netflix   | F     | "
   ]
  },
  {
   "cell_type": "code",
   "execution_count": 59,
   "metadata": {},
   "outputs": [],
   "source": [
    "#conn = sqlite3.connect(\"\", isolation_level=None)\n",
    "\n",
    "import sqlite3\n",
    "\n",
    "con = sqlite3.connect(\"temp.db\")\n",
    "cur = con.cursor()\n",
    "\n",
    "cur.execute(\"CREATE TABLE IF NOT EXISTS Airbnb(City VARCHAR(255),Price INTEGER,Hostname VARCHAR(255),Latitude FLOAT,Longitude FLOAT)\")\n",
    "Airbnb_list = (\n",
    "['New York', 100, 'Jennifer', 40.75, -73.983],\n",
    "['New York', 175, 'Andy', 40.66536, -74.264],\n",
    "['Hawaii', 200, 'Edward', 19.453, -155.3579],\n",
    "['San Diego', 68, 'Isabel', 32.473, -117.1263],\n",
    "['San Diego', 96, 'Alice', 32.5852, -117.2361]\n",
    ")\n",
    "cur.executemany(\"INSERT INTO 'Airbnb'(City,Price,Hostname,Latitude,Longitude) VALUES(?,?,?,?,?)\", Airbnb_list)\n",
    "\n",
    "cur.execute(\"CREATE TABLE IF NOT EXISTS Crime(Location VARCHAR(255), Year INTEGER, Num_crime INTEGER)\")\n",
    "Crime_list = (\n",
    "['New York', 2021, 1957],\n",
    "['New York', 2022, 2395],\n",
    "['San Diego', 2021, 749],\n",
    "['San Diego', 2022, 629]\n",
    ")\n",
    "cur.executemany(\"INSERT INTO 'Crime'(Location, Year, Num_crime) VALUES(?,?,?)\", Crime_list)\n",
    "\n",
    "cur.execute(\"CREATE TABLE IF NOT EXISTS Job(Employee VARCHAR(255), Company VARCHAR(255), Gender VARCHAR(1))\")\n",
    "cur.execute(\"INSERT INTO 'Job'(Employee, Company, Gender) VALUES(?,?,?)\", ('Andy', 'Amazon', 'M'))\n",
    "cur.execute(\"INSERT INTO 'Job'(Employee, Company, Gender) VALUES(?,?,?)\", ('Isabel', 'Netflix', 'F'))\n",
    "\n",
    "#cur.execute(\"SELECT * FROM 'Airbnb';\")\n",
    "#print(cur.fetchall())\n",
    "#cur.execute(\"SELECT * FROM 'Crime';\")\n",
    "#print(cur.fetchall())\n",
    "#cur.execute(\"SELECT * FROM 'Job';\")\n",
    "#print(cur.fetchall())\n",
    "\n",
    "con.commit()\n",
    "con.close()\n"
   ]
  },
  {
   "cell_type": "markdown",
   "metadata": {},
   "source": [
    "6. Connect database named `temp.db` and print all data in `Airbnb`.\n",
    "    (Printed results should be a list of tuples.)"
   ]
  },
  {
   "cell_type": "code",
   "execution_count": 60,
   "metadata": {},
   "outputs": [
    {
     "name": "stdout",
     "output_type": "stream",
     "text": [
      "[('New York', 100, 'Jennifer', 40.75, -73.983), ('New York', 175, 'Andy', 40.66536, -74.264), ('Hawaii', 200, 'Edward', 19.453, -155.3579), ('San Diego', 68, 'Isabel', 32.473, -117.1263), ('San Diego', 96, 'Alice', 32.5852, -117.2361)]\n",
      "[('New York', 2021, 1957), ('New York', 2022, 2395), ('San Diego', 2021, 749), ('San Diego', 2022, 629)]\n",
      "[('Andy', 'Amazon', 'M'), ('Isabel', 'Netflix', 'F')]\n"
     ]
    }
   ],
   "source": [
    "import sqlite3\n",
    "\n",
    "con = sqlite3.connect(\"temp.db\")\n",
    "cur = con.cursor()\n",
    "\n",
    "cur.execute(\"SELECT * FROM 'Airbnb';\")\n",
    "print(cur.fetchall())\n",
    "cur.execute(\"SELECT * FROM 'Crime';\")\n",
    "print(cur.fetchall())\n",
    "cur.execute(\"SELECT * FROM 'Job';\")\n",
    "print(cur.fetchall())\n",
    "\n",
    "con.commit()\n",
    "con.close()"
   ]
  },
  {
   "cell_type": "markdown",
   "metadata": {},
   "source": [
    "### b. Execute Queries\n",
    "Here, you will execute multiple queries using the database `temp.db`.<br>\n",
    "1. Connect the database `temp.db` and print Airbnb in New York that costs less than 120.<br>\n",
    "(Printed results should be either a list of tuples or a tuple.)\n"
   ]
  },
  {
   "cell_type": "code",
   "execution_count": 61,
   "metadata": {},
   "outputs": [
    {
     "name": "stdout",
     "output_type": "stream",
     "text": [
      "[('New York', 100, 'Jennifer', 40.75, -73.983)]\n"
     ]
    }
   ],
   "source": [
    "import sqlite3\n",
    "\n",
    "con =sqlite3.connect(\"temp.db\")\n",
    "cur = con.cursor()\n",
    "\n",
    "cur.execute (\"SELECT * FROM 'Airbnb' WHERE City='New York' AND Price <120;\")\n",
    "print(f'{cur.fetchall()}')\n",
    "\n",
    "con.commit()\n",
    "con.close()"
   ]
  },
  {
   "cell_type": "markdown",
   "metadata": {},
   "source": [
    "2. Connect the database `temp.db` and output the average crime rate by city in descending order."
   ]
  },
  {
   "cell_type": "code",
   "execution_count": 62,
   "metadata": {},
   "outputs": [
    {
     "name": "stdout",
     "output_type": "stream",
     "text": [
      "[('New York', 2176.0), ('San Diego', 689.0)]\n"
     ]
    }
   ],
   "source": [
    "con =sqlite3.connect(\"temp.db\")\n",
    "cur = con.cursor()\n",
    "\n",
    "cur.execute(\"SELECT Location, avg(Num_crime) FROM Crime GROUP BY Location ORDER BY avg(Num_crime) DESC;\")\n",
    "print(f'{cur.fetchall()}')\n",
    "\n",
    "con.commit()\n",
    "con.close()"
   ]
  },
  {
   "cell_type": "markdown",
   "metadata": {},
   "source": [
    "3. Connect the database `temp.db`.<br>\n",
    "    Select City, Price, Hostname from `Airbnb` and select all columns from `Job`.<br>\n",
    "    Left join `Airbnb` and `Job` using 'Name' and 'Employee' columns respectively."
   ]
  },
  {
   "cell_type": "code",
   "execution_count": 63,
   "metadata": {},
   "outputs": [
    {
     "name": "stdout",
     "output_type": "stream",
     "text": [
      "[('New York', 100, 'Jennifer', None, None), ('New York', 175, 'Andy', 'Amazon', 'M'), ('Hawaii', 200, 'Edward', None, None), ('San Diego', 68, 'Isabel', 'Netflix', 'F'), ('San Diego', 96, 'Alice', None, None)]\n"
     ]
    }
   ],
   "source": [
    "import sqlite3\n",
    "\n",
    "con =sqlite3.connect(\"temp.db\")\n",
    "cur = con.cursor()\n",
    "\n",
    "cur.execute(\"SELECT Airbnb.City, Airbnb.Price, Airbnb.Hostname, Job.Company, Job.Gender From Airbnb LEFT JOIN Job ON Airbnb.Hostname = Job.Employee\")\n",
    "print(f'{cur.fetchall()}')\n",
    "\n",
    "con.commit()\n",
    "con.close()"
   ]
  },
  {
   "cell_type": "markdown",
   "metadata": {},
   "source": [
    "## 2. SQLite and Pandas\n",
    "Here, you will convert SQLite data to Pandas dataframe and process it.<br>\n",
    "Students must use Pandas library to solve problems.<br>\n",
    "Reference: https://pythonspot.com/sqlite-database-with-pandas/ "
   ]
  },
  {
   "cell_type": "markdown",
   "metadata": {},
   "source": [
    "1. Connect the database `temp.db` and print Airbnb in New York that costs less than 120."
   ]
  },
  {
   "cell_type": "code",
   "execution_count": 64,
   "metadata": {},
   "outputs": [
    {
     "name": "stdout",
     "output_type": "stream",
     "text": [
      "       City  Price  Hostname  Latitude  Longitude\n",
      "0  New York    100  Jennifer     40.75    -73.983\n"
     ]
    }
   ],
   "source": [
    "con =sqlite3.connect(\"temp.db\")\n",
    "cur = con.cursor()\n",
    "\n",
    "import pandas as pd\n",
    "from pandas import DataFrame\n",
    "\n",
    "connection = sqlite3.connect('temp.db')\n",
    "df1 = pd.read_sql(\"SELECT * FROM Airbnb;\",connection)\n",
    "df2 = df1.loc[df1['City'] == 'New York']\n",
    "df3 = df2[df2['Price']<120]\n",
    "print(df3)\n",
    "\n",
    "con.commit()\n",
    "con.close()"
   ]
  },
  {
   "cell_type": "markdown",
   "metadata": {},
   "source": [
    "2. Connect the database `temp.db` and output the average crime rate by city in descending order."
   ]
  },
  {
   "cell_type": "code",
   "execution_count": 65,
   "metadata": {},
   "outputs": [
    {
     "name": "stdout",
     "output_type": "stream",
     "text": [
      "           Num_crime_avg\n",
      "Location                \n",
      "New York          2176.0\n",
      "San Diego          689.0\n"
     ]
    }
   ],
   "source": [
    "import pandas as pd\n",
    "from pandas import DataFrame\n",
    "\n",
    "con =sqlite3.connect(\"temp.db\")\n",
    "cur = con.cursor()\n",
    "\n",
    "connection = sqlite3.connect('temp.db')\n",
    "df1 = pd.read_sql(\"SELECT * FROM Crime;\",connection)\n",
    "\n",
    "df2 = df1.groupby('Location')['Num_crime'].agg(**{'Num_crime_avg':'mean'})\n",
    "print(df2)\n",
    "\n",
    "con.commit()\n",
    "con.close()"
   ]
  },
  {
   "cell_type": "markdown",
   "metadata": {},
   "source": [
    "3. Connect the database `temp.db`.<br>\n",
    "    Select City, Price, Hostname from `Airbnb` and select all columns from `Job`.<br>\n",
    "    Left join `Airbnb` and `Job` using 'Name' and 'Employee' columns respectively.<br>\n",
    "    Write and save the output dataframe to sql table named `Address`."
   ]
  },
  {
   "cell_type": "code",
   "execution_count": 66,
   "metadata": {},
   "outputs": [],
   "source": [
    "import sqlite3\n",
    "import pandas as pd\n",
    "from pandas import DataFrame\n",
    "\n",
    "con =sqlite3.connect(\"temp.db\")\n",
    "cur = con.cursor()\n",
    "\n",
    "connection = sqlite3.connect('temp.db')\n",
    "df1 = pd.read_sql(\"SELECT City, Price, Hostname FROM Airbnb;\",connection)\n",
    "df2 = pd.read_sql(\"SELECT * FROM Job;\",connection)\n",
    "#df3 = pd.merge(left= df1, right=df2, left_on='Hostname', right_on='Employee', how='left')\n",
    "df3 = pd.merge(df1, df2, how='left', left_on='Hostname', right_on='Employee')\n",
    "df3.to_sql(\"Address\", con, if_exists=\"replace\", index=False)\n",
    "\n",
    "con.commit()\n",
    "con.close()"
   ]
  },
  {
   "cell_type": "markdown",
   "metadata": {},
   "source": [
    "4. Connect the database `temp.db` and print all rows and columns in the `Address` table."
   ]
  },
  {
   "cell_type": "code",
   "execution_count": 67,
   "metadata": {},
   "outputs": [
    {
     "name": "stdout",
     "output_type": "stream",
     "text": [
      "[('New York', 100, 'Jennifer', None, None, None), ('New York', 175, 'Andy', 'Andy', 'Amazon', 'M'), ('Hawaii', 200, 'Edward', None, None, None), ('San Diego', 68, 'Isabel', 'Isabel', 'Netflix', 'F'), ('San Diego', 96, 'Alice', None, None, None)]\n"
     ]
    }
   ],
   "source": [
    "import sqlite3\n",
    "import pandas as pd\n",
    "from pandas import DataFrame\n",
    "\n",
    "con =sqlite3.connect(\"temp.db\")\n",
    "cur = con.cursor()\n",
    "\n",
    "cur.execute (\"SELECT * FROM Address;\")\n",
    "print(f'{cur.fetchall()}')\n",
    "\n",
    "con.commit()\n",
    "con.close()"
   ]
  },
  {
   "cell_type": "markdown",
   "metadata": {},
   "source": [
    "## 3. SQL Query\n",
    "Here, students must use **sqlite shell** to solve problems.<br>\n",
    "Do not write python scripts that use sqlite3 library.<br>\n",
    "You may encounter errors when running cells on jupyter notebook, but it is okay as long as it works fine on the sqlite shell."
   ]
  },
  {
   "cell_type": "markdown",
   "metadata": {},
   "source": [
    "| 1  | data   | 4 | \n",
    "| :- | :- | :- |\n",
    "| 1  | base   | 3 | \n",
    "| 1  | system   | 5 | \n",
    "| 1  | fall   | 6 | \n",
    "| 1  | semester   | 2 | \n",
    "| 2  | data   | 1 | \n",
    "| 2  | base   | 2 | \n",
    "| 2  | structure   | 3 | \n",
    "| 2  | network   | 4 | \n",
    "| 2  | algorithm   | 5 | \n",
    "| 3  | ds   | 2 | \n",
    "| 3  | sd   | 3 | \n",
    "| 3  | final   | 4 | \n",
    "| 3  | mid   | 5 | \n",
    "| 4  | system   | 1 | \n",
    "| 4  | ds   | 4 | \n",
    "| 4  | sd   | 3 | \n",
    "| 4  | pl   | 5 | \n",
    "| 4  | data   | 2 | \n",
    "| 5  | base   | 2 | \n",
    "| 5  | structure   | 2 | \n",
    "| 5  | network   | 3 | \n",
    "| 5  | fall   | 4 | \n",
    "| 6  | data   | 2 | \n",
    "| 6  | base   | 4 | "
   ]
  },
  {
   "cell_type": "markdown",
   "metadata": {},
   "source": [
    "### a. Import CSV\n",
    "Make a csv file from the data above and import it to SQLite database.<br>\n",
    "Execute the query below in the sqlite shell.\n",
    "- Create table Documents(DocID int, Term text, Count int);\n",
    "- .mode csv\n",
    "- .import [csvpath]/Document.csv Documents"
   ]
  },
  {
   "cell_type": "code",
   "execution_count": null,
   "metadata": {},
   "outputs": [],
   "source": [
    "#CREATE TABLE Documents(DocID int,Term text,Count int);\n",
    "#INSERT INTO Documents values (1, 'data', 4);\n",
    "#INSERT INTO Documents values (1, 'base', 3);\n",
    "#INSERT INTO Documents values (1, 'system', 5); \n",
    "#INSERT INTO Documents values (1, 'fall', 6);\n",
    "#INSERT INTO Documents values (1, 'semester',2);\n",
    "#INSERT INTO Documents values (2, 'data', 1); \n",
    "#INSERT INTO Documents values (2, 'base', 2); \n",
    "#INSERT INTO Documents values (2, 'structure', 3); \n",
    "#INSERT INTO Documents values (2, 'network', 4); \n",
    "#INSERT INTO Documents values (2, 'algorithm', 5); \n",
    "#INSERT INTO Documents values (3, 'ds', 2); \n",
    "#INSERT INTO Documents values (3, 'sd', 3); \n",
    "#INSERT INTO Documents values (3, 'final', 4); \n",
    "#INSERT INTO Documents values (3, 'mid', 5); \n",
    "#INSERT INTO Documents values (4, 'system', 1); \n",
    "#INSERT INTO Documents values (4, 'ds', 4); \n",
    "#INSERT INTO Documents values (4, 'sd', 3); \n",
    "#INSERT INTO Documents values (4, 'pl', 5); \n",
    "#INSERT INTO Documents values (4, 'data', 2); \n",
    "#INSERT INTO Documents values (5, 'base', 2); \n",
    "#INSERT INTO Documents values (5, 'structure', 2); \n",
    "#INSERT INTO Documents values (5, 'network', 3);\n",
    "#INSERT INTO Documents values (5, 'fall', 4);\n",
    "#INSERT INTO Documents values (6, 'data', 2); \n",
    "#INSERT INTO Documents values (6, 'base', 4);\n",
    "\n",
    "#.header on\n",
    "#.mode csv\n",
    "#.output Document.csv\n",
    "#SELECT * FROM Documents;\n",
    "#.import /Users/jeongjaehyeon/Document.csv Documents"
   ]
  },
  {
   "cell_type": "markdown",
   "metadata": {},
   "source": [
    "### b. Relational Algebra Expression\n",
    "Write an SQL Query that is equivalemt to the following relational algebra expression.<br>\n",
    "\n",
    "1. $\\pi_{Term}(σ_{DocID=2(Documents)}) \\cup π_{Term}(σ_{count=3(Documents)})$\n",
    "2. Try both union and union all to see the difference\n",
    "3. Try “or” instead of “union” and compare results with using union\n"
   ]
  },
  {
   "cell_type": "code",
   "execution_count": null,
   "metadata": {},
   "outputs": [],
   "source": [
    "SELECT Term FROM Documents WHERE DocID=2\n",
    "UNION ALL\n",
    "SELECT Term FROM Documents WHERE Count=3;\n",
    "# UNION ALL는 두 조건을 더하므로 같은 행을 중복해서 만들고, 중복제거를 하지 않음\n",
    "\n",
    "SELECT Term FROM Documents WHERE DocID=2\n",
    "UNION\n",
    "SELECT Term FROM Documents WHERE Count=3;\n",
    "# UNION은 중복 제거를 한다.\n",
    "\n",
    "SELECT Term FROM Documents WHERE (DocID=2 OR Count=3);\n",
    "# OR은 한번에 이 조건을 통과하는 행을 센다는 점에서 차이가 있다.\n",
    "# UNION ALL과 다르게 structure 한개가 없음"
   ]
  },
  {
   "cell_type": "markdown",
   "metadata": {},
   "source": [
    "### c. SQLite Query Exercise-1"
   ]
  },
  {
   "cell_type": "markdown",
   "metadata": {},
   "source": [
    "1. Write an SQL query that counts the number of documents that contain either the word “system” or “data”."
   ]
  },
  {
   "cell_type": "code",
   "execution_count": null,
   "metadata": {},
   "outputs": [],
   "source": [
    "SELECT COUNT(distinct DocID) FROM Documents WHERE Term = 'system' or Term='data';\n",
    "#SELECT COUNT(*) from Documents where Term = 'system' OR Term = 'data';\n",
    "#from xml.dom.minidom import Document\n",
    "#SELECT COUNT(name) as cnt FROM hero_collection;"
   ]
  },
  {
   "cell_type": "markdown",
   "metadata": {},
   "source": [
    "2. Write an SQL query that returns total count of each Terms in all DocID. Do not include DocID in the final result."
   ]
  },
  {
   "cell_type": "code",
   "execution_count": null,
   "metadata": {},
   "outputs": [],
   "source": [
    "SELECT SUM(Count) FROM Documents GROUP BY DocID;\n",
    "#SELECT COUNT(*) from Documents group by DocID;\n",
    "#SELECT DocID, count(*) from Documents group by DocID;"
   ]
  },
  {
   "cell_type": "markdown",
   "metadata": {},
   "source": [
    "3. Write an SQL query that finds all documents that have more than 4 distinct terms."
   ]
  },
  {
   "cell_type": "code",
   "execution_count": null,
   "metadata": {},
   "outputs": [],
   "source": [
    "SELECT DocID FROM Documents GROUP BY DocID HAVING COUNT(DISTINCT Term) > 4;\n",
    "\n",
    "#SELECT Term, COUNT(Term) AS cnt FROM Documents GROUP BY Term HAVING cnt > 4\n",
    "#SELECT COUNT(name) as cnt FROM hero_collection;\n",
    "#SELECT COUNT(Term) as cnt from Documents where Term = 'system'OR Term = 'data';"
   ]
  },
  {
   "cell_type": "markdown",
   "metadata": {},
   "source": [
    "### d. SQLite Query Exercise-2\n",
    "Write an SQL query to compute the similarity of every pair of documents in Documents. <br>\n",
    "The similarity here is computed by summing the same term counts of two documents.<br>\n",
    "For example, the similarity of Doc1 <’a’:2, ‘b’:1, ‘c’:3> and Doc2 <’b’:2, ‘c’:1, ‘d’:4> is 1*2 (‘b’) + 3*1 (‘c’) = 5.<br>\n",
    "(Hint: to avoid computing the similarity of both (Doc1, Doc2) and (Doc2, Doc1), add a condition of the form a.DocID < b.DocID.)<br>\n",
    " 1*2 (‘b’) + 3*1 (‘c’) = 5\n"
   ]
  },
  {
   "cell_type": "code",
   "execution_count": null,
   "metadata": {},
   "outputs": [],
   "source": []
  },
  {
   "cell_type": "markdown",
   "metadata": {},
   "source": [
    "## Reference:\n",
    "\n",
    "https://docs.python.org/3/library/sqlite3.html?highlight=sqlite#module-sqlite3"
   ]
  }
 ],
 "metadata": {
  "kernelspec": {
   "display_name": "Python 3.9.10 64-bit",
   "language": "python",
   "name": "python3"
  },
  "language_info": {
   "codemirror_mode": {
    "name": "ipython",
    "version": 3
   },
   "file_extension": ".py",
   "mimetype": "text/x-python",
   "name": "python",
   "nbconvert_exporter": "python",
   "pygments_lexer": "ipython3",
   "version": "3.9.10"
  },
  "vscode": {
   "interpreter": {
    "hash": "b0fa6594d8f4cbf19f97940f81e996739fb7646882a419484c72d19e05852a7e"
   }
  }
 },
 "nbformat": 4,
 "nbformat_minor": 2
}
