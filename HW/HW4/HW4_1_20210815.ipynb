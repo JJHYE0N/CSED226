{
 "cells": [
  {
   "cell_type": "code",
   "execution_count": 71,
   "metadata": {},
   "outputs": [
    {
     "name": "stderr",
     "output_type": "stream",
     "text": [
      "/var/folders/45/l9pwq7313tb9ss_6yl0pxhp00000gn/T/ipykernel_64321/3712361435.py:21: SettingWithCopyWarning: \n",
      "A value is trying to be set on a copy of a slice from a DataFrame\n",
      "\n",
      "See the caveats in the documentation: https://pandas.pydata.org/pandas-docs/stable/user_guide/indexing.html#returning-a-view-versus-a-copy\n",
      "  train_class['Sector'][i] = int(train_class['Sector'][i][7])\n",
      "/var/folders/45/l9pwq7313tb9ss_6yl0pxhp00000gn/T/ipykernel_64321/3712361435.py:25: SettingWithCopyWarning: \n",
      "A value is trying to be set on a copy of a slice from a DataFrame\n",
      "\n",
      "See the caveats in the documentation: https://pandas.pydata.org/pandas-docs/stable/user_guide/indexing.html#returning-a-view-versus-a-copy\n",
      "  train_class['Soil'][i] = int(train_class['Soil'][i][5:])\n",
      "/var/folders/45/l9pwq7313tb9ss_6yl0pxhp00000gn/T/ipykernel_64321/3712361435.py:29: SettingWithCopyWarning: \n",
      "A value is trying to be set on a copy of a slice from a DataFrame\n",
      "\n",
      "See the caveats in the documentation: https://pandas.pydata.org/pandas-docs/stable/user_guide/indexing.html#returning-a-view-versus-a-copy\n",
      "  test_class['Sector'][i] = int(test_class['Sector'][i][7])\n",
      "/var/folders/45/l9pwq7313tb9ss_6yl0pxhp00000gn/T/ipykernel_64321/3712361435.py:33: SettingWithCopyWarning: \n",
      "A value is trying to be set on a copy of a slice from a DataFrame\n",
      "\n",
      "See the caveats in the documentation: https://pandas.pydata.org/pandas-docs/stable/user_guide/indexing.html#returning-a-view-versus-a-copy\n",
      "  test_class['Soil'][i] = int(test_class['Soil'][i][5:])\n"
     ]
    }
   ],
   "source": [
    "#HW4_1_20210815\n",
    "import pandas as pd\n",
    "from pandas import DataFrame\n",
    "from sklearn.neighbors import KNeighborsClassifier\n",
    "from sklearn import preprocessing\n",
    "import matplotlib.pyplot as plt\n",
    "from sklearn.model_selection import train_test_split\n",
    "train_class = pd.read_csv('train_classification.csv')\n",
    "test_class = pd.read_csv('test_classification.csv')\n",
    "\n",
    "\n",
    "#인코딩 방법1 (기각)\n",
    "\"\"\"\n",
    "le = preprocessing.LabelEncoder()\n",
    "sector_encoded_train=le.fit_transform(train_class['Sector'])\n",
    "soil_encoded_train=le.fit_transform(train_class['Soil'])\n",
    "sector_encoded_test=le.fit_transform(test_class['Sector'])\n",
    "soil_encoded_test=le.fit_transform(test_class['Soil'])\n",
    "\"\"\"\n",
    "\n",
    "#인코딩 방법2 (문자열 자르고 to int64)\n",
    "for i, x in enumerate(train_class['Sector']):\n",
    "    train_class['Sector'][i] = int(train_class['Sector'][i][7])\n",
    "train_class = train_class.astype({'Sector':'int64'})\n",
    "\n",
    "for i, x in enumerate(train_class['Soil']):\n",
    "    train_class['Soil'][i] = int(train_class['Soil'][i][5:])\n",
    "train_class = train_class.astype({'Soil':'int64'})\n",
    "\n",
    "for i, x in enumerate(test_class['Sector']):\n",
    "    test_class['Sector'][i] = int(test_class['Sector'][i][7])\n",
    "test_class = test_class.astype({'Sector':'int64'})\n",
    "\n",
    "for i, x in enumerate(test_class['Soil']):\n",
    "    test_class['Soil'][i] = int(test_class['Soil'][i][5:])\n",
    "test_class = test_class.astype({'Soil':'int64'})\n",
    "\n",
    "\n",
    "#데이터 라벨링 \n",
    "train_label = train_class['Plant_species']\n",
    "train_class = train_class.drop(['Plant_species'],axis=1)\n",
    "\n",
    "\n",
    "#knn 1부터 100까지 진행 후 가장 최적의 K값을 찾은 결과 k는 1이었다\n",
    "\"\"\"\n",
    "training_data, validation_data , training_labels, validation_labels = train_test_split(train_class, train_label, test_size = 0.2, random_state = 100)\n",
    "k_list = range(1,101)\n",
    "accuracies = []\n",
    "for k in k_list:\n",
    "    classifier = KNeighborsClassifier(n_neighbors = k)\n",
    "    classifier.fit(training_data, training_labels)\n",
    "    #classifier.fit(train_class, test_class)\n",
    "    accuracies.append(classifier.score(validation_data, validation_labels))\n",
    "    print(k)\n",
    "    print(classifier.score(validation_data, validation_labels))\n",
    "plt.plot(k_list, accuracies)\n",
    "plt.xlabel(\"k\")\n",
    "plt.ylabel(\"Validation Accuracy\")\n",
    "plt.title(\"Breast Cancer Classifier Accuracy\")\n",
    "plt.show()\n",
    "\"\"\"\n",
    "\n",
    "#KNN classification with k=1\n",
    "classifier = KNeighborsClassifier(n_neighbors = 1)\n",
    "classifier.fit(train_class, train_label)\n",
    "Category = classifier.predict(test_class)\n",
    "\n",
    "\n",
    "#data to csv with Id Category\n",
    "Id = list(range(20000))\n",
    "df = pd.DataFrame({'Id' : Id, 'Category' : Category })\n",
    "df.to_csv('sample_classification.csv',index=False)"
   ]
  },
  {
   "cell_type": "code",
   "execution_count": null,
   "metadata": {},
   "outputs": [],
   "source": []
  }
 ],
 "metadata": {
  "kernelspec": {
   "display_name": "Python 3.9.10 64-bit",
   "language": "python",
   "name": "python3"
  },
  "language_info": {
   "codemirror_mode": {
    "name": "ipython",
    "version": 3
   },
   "file_extension": ".py",
   "mimetype": "text/x-python",
   "name": "python",
   "nbconvert_exporter": "python",
   "pygments_lexer": "ipython3",
   "version": "3.9.10"
  },
  "vscode": {
   "interpreter": {
    "hash": "b0fa6594d8f4cbf19f97940f81e996739fb7646882a419484c72d19e05852a7e"
   }
  }
 },
 "nbformat": 4,
 "nbformat_minor": 4
}
