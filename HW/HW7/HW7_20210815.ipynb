{
 "cells": [
  {
   "cell_type": "code",
   "execution_count": 14,
   "metadata": {},
   "outputs": [],
   "source": [
    "import numpy as np\n",
    "import matplotlib.pyplot as plt\n",
    "import pandas as pd\n",
    "#import seaborn as sns\n",
    "from sklearn import datasets\n",
    "#from surprise import accuracy\n",
    "from surprise import Dataset\n",
    "from surprise import Reader\n",
    "from surprise.dataset import DatasetAutoFolds\n",
    "#from surprise.model_selection import GridSearchCV\n",
    "#from surprise.model_selection import cross_validate\n",
    "#from surprise.model_selection import train_test_split\n",
    "import os\n",
    "\n",
    "#reading format\n",
    "reader = Reader(line_format='user item rating', sep=',', rating_scale=(0.5, 5.0))\n",
    "test = pd.read_csv('test.csv')\n",
    "temp_train = pd.read_csv('train.csv')\n",
    "#to use surprise csv to index False, header False\n",
    "temp_train.to_csv('train_surprise.csv', index=False, header=False)\n",
    "data = DatasetAutoFolds(ratings_file='train_surprise.csv', reader=reader)\n",
    "#make train full trainset\n",
    "train = data.build_full_trainset()\n",
    "\n",
    "#USE NMF Solution\n",
    "from surprise import NMF\n",
    "algo = NMF()\n",
    "algo.fit(train)\n",
    "\n",
    "#Save sample_submit.csv\n",
    "save=pd.read_csv('sample_submit.csv')\n",
    "id = list(range(0,302717))\n",
    "for i in id:\n",
    "    uid = str(test.iloc[i,0])\n",
    "    iid = str(test.iloc[i,1])\n",
    "    save.iloc[i,0] = i\n",
    "    save.iloc[i,1] = algo.predict(uid, iid).est\n",
    "    #predict all data using loop\n",
    "save.to_csv('sample_submit.csv', index=False)"
   ]
  },
  {
   "cell_type": "code",
   "execution_count": null,
   "metadata": {},
   "outputs": [],
   "source": []
  }
 ],
 "metadata": {
  "kernelspec": {
   "display_name": "Python 3.9.10 64-bit",
   "language": "python",
   "name": "python3"
  },
  "language_info": {
   "codemirror_mode": {
    "name": "ipython",
    "version": 3
   },
   "file_extension": ".py",
   "mimetype": "text/x-python",
   "name": "python",
   "nbconvert_exporter": "python",
   "pygments_lexer": "ipython3",
   "version": "3.9.10"
  },
  "vscode": {
   "interpreter": {
    "hash": "b0fa6594d8f4cbf19f97940f81e996739fb7646882a419484c72d19e05852a7e"
   }
  }
 },
 "nbformat": 4,
 "nbformat_minor": 4
}
