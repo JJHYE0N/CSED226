{
 "cells": [
  {
   "cell_type": "markdown",
   "metadata": {},
   "source": [
    "# HW01"
   ]
  },
  {
   "cell_type": "markdown",
   "metadata": {},
   "source": [
    "You should modify the code in **hw1_20XXXXXX.py** between <br>\n",
    "&nbsp;&nbsp;&nbsp;&nbsp; **\\# BEGIN_YOUR_CODE**<br>\n",
    "&nbsp;&nbsp;&nbsp;&nbsp; and<br>\n",
    "&nbsp;&nbsp;&nbsp;&nbsp; **\\# END_YOUR_CODE**.<br>\n",
    "You should change submission file name <br>\n",
    "&nbsp;&nbsp;&nbsp;&nbsp; from **hw1_20XXXXXX.py** <br>\n",
    "&nbsp;&nbsp;&nbsp;&nbsp; to **hw1_\\[your student id number\\].py**.<br>\n",
    "You should submit **hw1_\\[your student id number\\].py** in LMS."
   ]
  },
  {
   "cell_type": "code",
   "execution_count": 2,
   "metadata": {},
   "outputs": [
    {
     "ename": "ModuleNotFoundError",
     "evalue": "No module named 'hw1_20XXXXXX'",
     "output_type": "error",
     "traceback": [
      "\u001b[0;31m---------------------------------------------------------------------------\u001b[0m",
      "\u001b[0;31mModuleNotFoundError\u001b[0m                       Traceback (most recent call last)",
      "Cell \u001b[0;32mIn [2], line 3\u001b[0m\n\u001b[1;32m      1\u001b[0m submission \u001b[38;5;241m=\u001b[39m \u001b[38;5;124m'\u001b[39m\u001b[38;5;124mhw1_20XXXXXX\u001b[39m\u001b[38;5;124m'\u001b[39m\n\u001b[1;32m      2\u001b[0m \u001b[38;5;28;01mimport\u001b[39;00m \u001b[38;5;21;01mimportlib\u001b[39;00m\n\u001b[0;32m----> 3\u001b[0m hw \u001b[38;5;241m=\u001b[39m \u001b[43mimportlib\u001b[49m\u001b[38;5;241;43m.\u001b[39;49m\u001b[43mimport_module\u001b[49m\u001b[43m(\u001b[49m\u001b[43msubmission\u001b[49m\u001b[43m)\u001b[49m\n\u001b[1;32m      4\u001b[0m \u001b[38;5;28;01mimport\u001b[39;00m \u001b[38;5;21;01mnumpy\u001b[39;00m \u001b[38;5;28;01mas\u001b[39;00m \u001b[38;5;21;01mnp\u001b[39;00m\n\u001b[1;32m      5\u001b[0m \u001b[38;5;28;01mimport\u001b[39;00m \u001b[38;5;21;01mpandas\u001b[39;00m \u001b[38;5;28;01mas\u001b[39;00m \u001b[38;5;21;01mpd\u001b[39;00m\n",
      "File \u001b[0;32m/opt/homebrew/Cellar/python@3.9/3.9.10/Frameworks/Python.framework/Versions/3.9/lib/python3.9/importlib/__init__.py:127\u001b[0m, in \u001b[0;36mimport_module\u001b[0;34m(name, package)\u001b[0m\n\u001b[1;32m    125\u001b[0m             \u001b[39mbreak\u001b[39;00m\n\u001b[1;32m    126\u001b[0m         level \u001b[39m+\u001b[39m\u001b[39m=\u001b[39m \u001b[39m1\u001b[39m\n\u001b[0;32m--> 127\u001b[0m \u001b[39mreturn\u001b[39;00m _bootstrap\u001b[39m.\u001b[39;49m_gcd_import(name[level:], package, level)\n",
      "File \u001b[0;32m<frozen importlib._bootstrap>:1030\u001b[0m, in \u001b[0;36m_gcd_import\u001b[0;34m(name, package, level)\u001b[0m\n",
      "File \u001b[0;32m<frozen importlib._bootstrap>:1007\u001b[0m, in \u001b[0;36m_find_and_load\u001b[0;34m(name, import_)\u001b[0m\n",
      "File \u001b[0;32m<frozen importlib._bootstrap>:984\u001b[0m, in \u001b[0;36m_find_and_load_unlocked\u001b[0;34m(name, import_)\u001b[0m\n",
      "\u001b[0;31mModuleNotFoundError\u001b[0m: No module named 'hw1_20XXXXXX'"
     ]
    }
   ],
   "source": [
    "submission = 'hw1_20XXXXXX'\n",
    "import importlib\n",
    "hw = importlib.import_module(submission)\n",
    "import numpy as np\n",
    "import pandas as pd"
   ]
  },
  {
   "cell_type": "markdown",
   "metadata": {},
   "source": [
    "## Problem 1. Factorial [2 points]\n",
    "Given n as an input, write a funciton that calculates the factorial(n!) and returns the number of zeros starting from the last digit of the result until the first nonzero number. <br>\n",
    "Do not use any other external libraries. <br>\n",
    "Reference: https://en.wikipedia.org/wiki/Factorial "
   ]
  },
  {
   "cell_type": "code",
   "execution_count": null,
   "metadata": {},
   "outputs": [],
   "source": [
    "def factorial(n):\n",
    "    # BEGIN_YOUR_CODE\n",
    "    raise Exception(\"Not implemented yet\")\n",
    "    # END_YOUR_CODE"
   ]
  },
  {
   "cell_type": "markdown",
   "metadata": {},
   "source": [
    "## Problem 2. Word Count [2 points]\n",
    "Given filename as an input, make a dictionary that contains each word as a key and the number of words as a value. <br>\n",
    "Here, we consider *POSTECH!* and *POSTECH* as different words. <br>\n",
    "*Use 'cp949' encoding if you face an UnicodeDecodeError."
   ]
  },
  {
   "cell_type": "code",
   "execution_count": null,
   "metadata": {},
   "outputs": [],
   "source": [
    "def wordCount(filename):\n",
    "    # BEGIN_YOUR_CODE\n",
    "    raise Exception(\"Not implemented yet\")\n",
    "    # END_YOUR_CODE"
   ]
  },
  {
   "cell_type": "markdown",
   "metadata": {},
   "source": [
    "## Problem 3. Average Price [3 points]\n",
    "Your goal is to calculate an average price of cars given a brand. <br>\n",
    "Here, input is a tuple which consists of (brand, model, price)."
   ]
  },
  {
   "cell_type": "code",
   "execution_count": null,
   "metadata": {},
   "outputs": [],
   "source": [
    "class car:\n",
    "    def __init__(self, args):\n",
    "        brand, model, price =  args\n",
    "        self.brand = brand\n",
    "        self.model = model\n",
    "        self.price = price\n",
    "def averagePrice(args):\n",
    "    # BEGIN_YOUR_CODE (our solution is 10 lines of code, but don't worry if you deviate from this)\n",
    "    raise Exception(\"Not implemented yet\")\n",
    "    # END_YOUR_CODE"
   ]
  },
  {
   "cell_type": "markdown",
   "metadata": {},
   "source": [
    "## Problem 4. Euclidean Distance [2 points]\n",
    "Your goal is to complete the **distance()** function that calculates Euclidean distance between numpy two arrays.<br>\n",
    "The answer should be rounded to two decimal places.<br>\n",
    "You need to utilize numpy library when solving a problem.<br>\n",
    "Please refer to the formula for higher dimensions in https://en.wikipedia.org/wiki/Euclidean_distance."
   ]
  },
  {
   "cell_type": "code",
   "execution_count": null,
   "metadata": {},
   "outputs": [],
   "source": [
    "def distance(arr1, arr2):\n",
    "    # BEGIN_YOUR_CODE\n",
    "    raise Exception(\"Not implemented yet\")\n",
    "    # END_YOUR_CODE"
   ]
  },
  {
   "cell_type": "markdown",
   "metadata": {},
   "source": [
    "## Problem 5. CSV Modification[5 points]\n",
    "Your goal is to preprocess a csv file that follows requirements given below.<br>\n",
    "The inputs are a path of the original data and a desired path of the processed data.<br>\n",
    "The problem must be solved using pandas library. Do not use any other external libraries.\n",
    "### Requirements\n",
    "- The requirements must be followed in the same order as given below.<br> (If not, you might attain different results although you followed everything correctly.)\n",
    "1) The processed csv file should not contain missing values; all rows with a missing value needs to be dropped.\n",
    "\n",
    "2) The processed csv file should not contain columns 'Legendary', 'Sp. Atk', and 'Sp. Def'.\n",
    "\n",
    "3) The processed csv file should only have Grass, Fire, Water, Normal 'Type 1' pokemons.\n",
    "\n",
    "4) The processed csv file should only have rows where a value in 'Total' is greater than 200.\n",
    "\n",
    "5) The processed csv file contains a new column named 'Power' where a value is 'strong' if Attack > 80 and 'week' otherwise."
   ]
  },
  {
   "cell_type": "code",
   "execution_count": null,
   "metadata": {},
   "outputs": [],
   "source": [
    "def pokemon(original_file, modified_file):\n",
    "    # BEGIN_YOUR_CODE\n",
    "    raise Exception(\"Not implemented yet\")\n",
    "    # END_YOUR_CODE\n",
    "    df.to_csv(modified_file,index=False)"
   ]
  },
  {
   "cell_type": "markdown",
   "metadata": {},
   "source": [
    "## Problem 6. Employee and Department\n",
    "Here, three csv files, namely 'departments.csv', 'employees.csv', and 'employees2.csv', are given. <br>\n",
    "Problem 6 is consisted of 2 sub problems. <br>\n",
    "Students must use pandas library to solve problems."
   ]
  },
  {
   "cell_type": "markdown",
   "metadata": {},
   "source": [
    "### 6.a Employee Table [3 points]\n",
    "In employee table, your goal is to make employee table. <br>\n",
    "The employee table should have 'name', 'salary', and 'department_name' as column. <br>\n",
    "The rows in the table must be in ascending order of 'salary'. <br>\n",
    "Note that department has its own 'department_id' and 'department_name'."
   ]
  },
  {
   "cell_type": "code",
   "execution_count": null,
   "metadata": {},
   "outputs": [],
   "source": [
    "def emp_table(dep, emp1, emp2):\n",
    "    # BEGIN_YOUR_CODE (our solution is 7 lines of code, but don't worry if you deviate from this)\n",
    "    raise Exception(\"Not implemented yet\")\n",
    "    # END_YOUR_CODE\n",
    "    return df  "
   ]
  },
  {
   "cell_type": "markdown",
   "metadata": {},
   "source": [
    "### 6.b Lowest Average Salary [3 points]\n",
    "Here, your goal is to find the department which has lowest average salary. <br>\n",
    "The output must be 'department_name'. <br>\n",
    "You can use function of 6.a."
   ]
  },
  {
   "cell_type": "code",
   "execution_count": null,
   "metadata": {},
   "outputs": [],
   "source": [
    "def lowest_avg(dep, emp1, emp2):\n",
    "    # BEGIN_YOUR_CODE (our solution is 3 lines of code, but don't worry if you deviate from this)\n",
    "    raise Exception(\"Not implemented yet\")\n",
    "    # END_YOUR_CODE"
   ]
  },
  {
   "cell_type": "markdown",
   "metadata": {},
   "source": [
    "## Check"
   ]
  },
  {
   "cell_type": "markdown",
   "metadata": {},
   "source": [
    "Note that the hidden test cases do not check for correctness."
   ]
  },
  {
   "cell_type": "code",
   "execution_count": 1,
   "metadata": {
    "scrolled": true
   },
   "outputs": [
    {
     "name": "stdout",
     "output_type": "stream",
     "text": [
      "Problem 1: It works well.\n",
      "Problem 2: It works well.\n",
      "Problem 3: It works well.\n",
      "Problem 4: It works well.\n",
      "Problem 5: It works well.\n",
      "Problem 6.a: It works well.\n",
      "Problem 6.b: It works well.\n",
      "Your score is [20/20].\n"
     ]
    }
   ],
   "source": [
    "submission = 'hw1_20210815'\n",
    "import importlib\n",
    "hw = importlib.import_module(submission)\n",
    "import numpy as np\n",
    "import pandas as pd\n",
    "\n",
    "\n",
    "#import hw1_20XXXXXX as hw\n",
    "#import numpy as np\n",
    "#import pandas as pd\n",
    "\n",
    "score = 0\n",
    "problem = 20\n",
    "\n",
    "# Problem 1\n",
    "try:\n",
    "    if hw.factorial(100) == 24:\n",
    "        print(\"Problem 1: It works well.\")\n",
    "        score = score + 2\n",
    "    else:\n",
    "        print(\"Problem 1: There is a problem.\")\n",
    "except:\n",
    "    print(\"Problem 1: Function is not implemented yet.\")\n",
    "    \n",
    "# Problem 2\n",
    "try:\n",
    "    cnt = hw.wordCount('hw01_2.txt')\n",
    "    if cnt['POSTECH'] == 4 and type(cnt) is dict:\n",
    "        print(\"Problem 2: It works well.\")\n",
    "        score = score + 2\n",
    "    else:\n",
    "        print(\"Problem 2: There is a problem.\")\n",
    "except:\n",
    "    print(\"Problem 2: Function is not implemented yet.\")\n",
    "    \n",
    "# Problem 3\n",
    "try:\n",
    "    l=[hw.car(('Hyundai','santaFe',2745)),hw.car(('KIA','K5',2395)),hw.car(('Hyundai','Sonata',2390)),hw.car(('KIA','K9',5520)),hw.car(('Hyundai','G70',6580))]\n",
    "    price1 = hw.averagePrice((l,'a'))\n",
    "    price2 = hw.averagePrice((l,'KIA'))\n",
    "    if (price1 == 0) and (price2 == 3957.5):\n",
    "        print(\"Problem 3: It works well.\")\n",
    "        score = score + 3\n",
    "    else:\n",
    "        print(\"Problem 3: There is a problem.\")\n",
    "except:\n",
    "    print(\"Problem 3: Function is not implemented yet.\")\n",
    "    \n",
    "# Problem 4\n",
    "try:\n",
    "    arr1,arr2 = np.array([0,1,2]), np.array([3,4,5])\n",
    "    dist = hw.distance(arr1, arr2)\n",
    "    if dist == 5.2:\n",
    "        print(\"Problem 4: It works well.\")\n",
    "        score = score + 2\n",
    "    else:\n",
    "        print(\"Problem 4: There is a problem.\")\n",
    "except:\n",
    "    print(\"Problem 4: Function is not implemented yet.\")\n",
    "    \n",
    "# Problem 5\n",
    "try:\n",
    "    score_problem2 = 0\n",
    "    original_file = 'pokemon.csv'\n",
    "    modified_file = 'new_pokemon.csv'\n",
    "    hw.pokemon(original_file, modified_file)\n",
    "    df=pd.read_csv(modified_file)\n",
    "    if df.isna().sum().all() == 0:\n",
    "        score_problem2 = score_problem2 + 1\n",
    "    if (list(df.columns).count('Legendary') == 0) and (list(df.columns).count('Sp. Atk') == 0) and (list(df.columns).count('Sp. Def') == 0):\n",
    "        score_problem2 = score_problem2 + 1\n",
    "    if set(df['Type 1'].value_counts().index.to_list()) == set(['Water', 'Normal', 'Grass', 'Fire']):\n",
    "        score_problem2 = score_problem2 + 1\n",
    "    if (df['Total'].min()>200) and (len(df.index) == 150):\n",
    "        score_problem2 = score_problem2 + 1\n",
    "    if (df.iloc[1]['Power'] == 'weak'):\n",
    "        score_problem2 = score_problem2 + 1\n",
    "    if (df.iloc[3]['Power'] == 'strong'):\n",
    "        score_problem2 = score_problem2 + 1\n",
    "    if score_problem2 == 6:\n",
    "        print(\"Problem 5: It works well.\")  \n",
    "        score = score + 5\n",
    "    else:\n",
    "        print(\"Problem 5: There is a problem.\")\n",
    "except:\n",
    "    print(\"Problem 5: Function is not implemented yet.\")\n",
    "    \n",
    "# Problem 6.a\n",
    "try:\n",
    "    dep = 'departments.csv'\n",
    "    emp1 = 'employees.csv'\n",
    "    emp2 = 'employees2.csv'\n",
    "    df = hw.emp_table(dep, emp1, emp2)\n",
    "    if (df.iloc[0]['name'] == 'Hunter') and (df.iloc[0]['department_name'] == 'research'):\n",
    "        print(\"Problem 6.a: It works well.\")\n",
    "        score = score + 3\n",
    "    else:\n",
    "        print(\"Problem 6.a: There is a problem.\")\n",
    "except:\n",
    "    print(\"Problem 6.a: Function is not implemented yet.\")\n",
    "    \n",
    "# Problem 6.b\n",
    "try:\n",
    "    dep = 'departments.csv'\n",
    "    emp1 = 'employees.csv'\n",
    "    emp2 = 'employees2.csv'\n",
    "    hdep = hw.lowest_avg(dep, emp1, emp2)\n",
    "    if hdep == 'research':\n",
    "        print(\"Problem 6.b: It works well.\")\n",
    "        score = score + 3\n",
    "    else:\n",
    "        print(\"Problem 6.b: There is a problem.\")\n",
    "except:\n",
    "    print(\"Problem 6.b: Function is not implemented yet.\")\n",
    "    \n",
    "print(\"Your score is [%d/%d].\"% (score,problem))"
   ]
  },
  {
   "cell_type": "code",
   "execution_count": null,
   "metadata": {},
   "outputs": [],
   "source": []
  },
  {
   "cell_type": "code",
   "execution_count": null,
   "metadata": {},
   "outputs": [],
   "source": []
  },
  {
   "cell_type": "code",
   "execution_count": null,
   "metadata": {},
   "outputs": [],
   "source": []
  }
 ],
 "metadata": {
  "anaconda-cloud": {},
  "kernelspec": {
   "display_name": "Python 3.9.10 64-bit",
   "language": "python",
   "name": "python3"
  },
  "language_info": {
   "codemirror_mode": {
    "name": "ipython",
    "version": 3
   },
   "file_extension": ".py",
   "mimetype": "text/x-python",
   "name": "python",
   "nbconvert_exporter": "python",
   "pygments_lexer": "ipython3",
   "version": "3.9.10"
  },
  "vscode": {
   "interpreter": {
    "hash": "b0fa6594d8f4cbf19f97940f81e996739fb7646882a419484c72d19e05852a7e"
   }
  }
 },
 "nbformat": 4,
 "nbformat_minor": 1
}
