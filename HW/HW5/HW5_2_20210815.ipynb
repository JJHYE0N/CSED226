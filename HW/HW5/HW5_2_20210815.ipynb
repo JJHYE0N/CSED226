{
 "cells": [
  {
   "cell_type": "code",
   "execution_count": 5,
   "metadata": {},
   "outputs": [],
   "source": [
    "import pandas as pd\n",
    "from pandas import DataFrame\n",
    "from sklearn.ensemble import RandomForestRegressor\n",
    "from sklearn import neighbors\n",
    "from sklearn import preprocessing\n",
    "import matplotlib.pyplot as plt\n",
    "from sklearn.metrics import mean_squared_error \n",
    "from math import sqrt\n",
    "from sklearn.model_selection import train_test_split\n",
    "train_reg = pd.read_csv('train_regression.csv')\n",
    "test_reg = pd.read_csv('test_regression.csv')\n",
    "\n",
    "#데이터 라벨링\n",
    "train_label = train_reg['score']\n",
    "train_reg = train_reg.drop(['score'],axis=1)\n",
    "\n",
    "##RabdomForestRegression을 1부터 100까지 진행 후 가장 최적의 random_state값을 찾은 결과 91이었다\n",
    "\"\"\"\n",
    "training_data, validation_data, training_labels, validation_labels = train_test_split(train_reg, train_label ,test_size=0.2)\n",
    "print(len(training_data), len(validation_data))\n",
    "rmse_val = [] #to store rmse values for different random_state\n",
    "for x in range(100):\n",
    "    x = x+1\n",
    "    model = RandomForestRegressor(n_estimators=100, random_state=x)\n",
    "    #model = neighbors.KNeighborsRegressor(n_neighbors = K)\n",
    "    model.fit(training_data, training_labels)  #fit the model\n",
    "    pred=model.predict(validation_data) #make prediction on test set\n",
    "    error = sqrt(mean_squared_error(validation_labels,pred)) #calculate rmse\n",
    "    rmse_val.append(error) #store rmse values\n",
    "    print('RMSE value for x= ' , x , 'is:', error)\n",
    "curve = pd.DataFrame(rmse_val) #elbow curve \n",
    "curve.plot()\n",
    "\"\"\"\n",
    "\n",
    "#RandomForestregression with random_state = 91\n",
    "regression = RandomForestRegressor(n_estimators=100, random_state= 91)\n",
    "regression.fit(train_reg, train_label)\n",
    "Predicted = regression.predict(test_reg)\n",
    "\n",
    "#print(len(Predicted))\n",
    "Id= list(range(2000))\n",
    "df = pd.DataFrame({'Id' : Id, 'Predicted' : Predicted })\n",
    "df.to_csv('sample_regression.csv',index=False)"
   ]
  }
 ],
 "metadata": {
  "kernelspec": {
   "display_name": "Python 3.9.10 64-bit",
   "language": "python",
   "name": "python3"
  },
  "language_info": {
   "codemirror_mode": {
    "name": "ipython",
    "version": 3
   },
   "file_extension": ".py",
   "mimetype": "text/x-python",
   "name": "python",
   "nbconvert_exporter": "python",
   "pygments_lexer": "ipython3",
   "version": "3.9.10"
  },
  "vscode": {
   "interpreter": {
    "hash": "b0fa6594d8f4cbf19f97940f81e996739fb7646882a419484c72d19e05852a7e"
   }
  }
 },
 "nbformat": 4,
 "nbformat_minor": 4
}
