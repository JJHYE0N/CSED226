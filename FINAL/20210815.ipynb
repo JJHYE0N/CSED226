{
 "cells": [
  {
   "cell_type": "code",
   "execution_count": null,
   "metadata": {},
   "outputs": [],
   "source": [
    "import pandas as pd\n",
    "from pandas import DataFrame\n",
    "from sklearn.neighbors import KNeighborsClassifier\n",
    "from sklearn import preprocessing\n",
    "import matplotlib.pyplot as plt\n",
    "from sklearn.model_selection import train_test_split\n",
    "\n",
    "cla = pd.read_csv('train_labeled_classification.csv')\n",
    "v1 = pd.read_csv('v1.csv')\n",
    "#test_class = pd.read_csv('train_unlabeled_classification.csv')\n",
    "train_class = pd.concat([cla,v1])\n",
    "#train_class.to_csv('v2v2.csv')]\n",
    "#print(train_class)\n",
    "train_class = pd.read_csv('v2v2.csv')\n",
    "train_class[:-2]\n",
    "test_class = pd.read_csv('test_classification.csv')\n",
    "print(test_class.count)\n",
    "train_label = train_class['label']\n",
    "train_class = train_class.drop(['label'],axis=1)\n",
    "\n",
    "#knn 1부터 100까지 진행 후 가장 최적의 K값을 찾은 결과 k는 13이었다\n",
    "\"\"\"\n",
    "training_data, validation_data , training_labels, validation_labels = train_test_split(train_class, train_label, test_size = 0.2, random_state = 100)\n",
    "k_list = range(1,101)\n",
    "accuracies = []\n",
    "for k in k_list:\n",
    "    classifier = KNeighborsClassifier(n_neighbors = k)\n",
    "    classifier.fit(training_data, training_labels)\n",
    "    #classifier.fit(train_class, test_class)\n",
    "    accuracies.append(classifier.score(validation_data, validation_labels))\n",
    "    print(k)\n",
    "    print(classifier.score(validation_data, validation_labels))\n",
    "plt.plot(k_list, accuracies)\n",
    "plt.xlabel(\"k\")\n",
    "plt.ylabel(\"Validation Accuracy\")\n",
    "plt.title(\"Breast Cancer Classifier Accuracy\")\n",
    "plt.show()\n",
    "\"\"\"\n",
    "\n",
    "#KNN classification with k=13\n",
    "classifier = KNeighborsClassifier(n_neighbors = 13)\n",
    "classifier.fit(train_class, train_label)\n",
    "Category = list(classifier.predict(test_class))\n",
    "\n",
    "#data to csv with Id Category\n",
    "#Id = list(range(35400)) #for sumbmit\n",
    "Id = list(range(6000))\n",
    "df = pd.DataFrame({'Id' : Id, 'Category' : Category })\n",
    "df.to_csv('submit.csv',index=False)"
   ]
  },
  {
   "cell_type": "code",
   "execution_count": null,
   "metadata": {},
   "outputs": [],
   "source": []
  }
 ],
 "metadata": {
  "kernelspec": {
   "display_name": "Python 3.9.10 64-bit",
   "language": "python",
   "name": "python3"
  },
  "language_info": {
   "codemirror_mode": {
    "name": "ipython",
    "version": 3
   },
   "file_extension": ".py",
   "mimetype": "text/x-python",
   "name": "python",
   "nbconvert_exporter": "python",
   "pygments_lexer": "ipython3",
   "version": "3.9.10"
  },
  "vscode": {
   "interpreter": {
    "hash": "b0fa6594d8f4cbf19f97940f81e996739fb7646882a419484c72d19e05852a7e"
   }
  }
 },
 "nbformat": 4,
 "nbformat_minor": 4
}
